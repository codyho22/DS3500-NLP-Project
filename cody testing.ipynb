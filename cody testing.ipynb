{
 "cells": [
  {
   "cell_type": "code",
   "execution_count": 1,
   "metadata": {},
   "outputs": [
    {
     "name": "stdout",
     "output_type": "stream",
     "text": [
      "         148\n",
      "day       34\n",
      "stand     31\n",
      "love      29\n",
      "Oh        24\n",
      "days      18\n",
      "know      18\n",
      "wait      18\n",
      "boy       17\n",
      "die       16\n",
      "Name: wordcount, dtype: int64\n"
     ]
    },
    {
     "data": {
      "image/png": "[encoded data removed]",
      "text/plain": [
       "<Figure size 1000x500 with 1 Axes>"
      ]
     },
     "metadata": {},
     "output_type": "display_data"
    }
   ],
   "source": [
    "from NLP import index_commonality_df, is_stop_word, get_stores, initialize\n",
    "from NLP import graphics as gfx\n",
    "import numpy as np\n",
    "import os\n",
    "import pandas as pd\n",
    "\n",
    "folder_path = '/data'\n",
    "files_in_folder = os.listdir(os.getcwd()+folder_path)\n",
    "files = []\n",
    "for file in files_in_folder:\n",
    "    files.append(folder_path[1:] + \"/\" + file)\n",
    "\n",
    "initialize(files)\n",
    "commonality = index_commonality_df()\n",
    "\n",
    "df = commonality[\"wordcount\"]\n",
    "df[\"index\"] = df.index.astype(str)\n",
    "df = df[df[\"index\"].apply(is_stop_word) == False]\n",
    "df = df[df[\"index\"] != \"Jolene\"]\n",
    "df = df[df[\"index\"] != \" \"]\n",
    "df = df.dropna()\n",
    "gfx.bar_plot(df[\"wordcount\"],  \"Most Used Words\", \"Words\", \"Word Count\")\n",
    "\n"
   ]
  },
  {
   "cell_type": "code",
   "execution_count": 2,
   "metadata": {},
   "outputs": [
    {
     "name": "stdout",
     "output_type": "stream",
     "text": [
      "['ctry1.txt', 'ctry2.txt', 'ctry3.txt', 'ctry4.txt', 'ctry5.txt', 'pop1.txt', 'pop2.txt', 'pop3.txt', 'pop4.txt', 'pop5.txt']\n"
     ]
    }
   ],
   "source": [
    "data = get_stores()\n",
    "\n",
    "lst_files = []\n",
    "for i in list(data.keys()):\n",
    "    lst_files.append(i.split('/')[-1])\n",
    "print(lst_files)"
   ]
  },
  {
   "cell_type": "code",
   "execution_count": 14,
   "metadata": {},
   "outputs": [
    {
     "data": {
      "text/html": [
       "<div>\n",
       "<style scoped>\n",
       "    .dataframe tbody tr th:only-of-type {\n",
       "        vertical-align: middle;\n",
       "    }\n",
       "\n",
       "    .dataframe tbody tr th {\n",
       "        vertical-align: top;\n",
       "    }\n",
       "\n",
       "    .dataframe thead th {\n",
       "        text-align: right;\n",
       "    }\n",
       "</style>\n",
       "<table border=\"1\" class=\"dataframe\">\n",
       "  <thead>\n",
       "    <tr style=\"text-align: right;\">\n",
       "      <th></th>\n",
       "      <th>wordcount</th>\n",
       "    </tr>\n",
       "  </thead>\n",
       "  <tbody>\n",
       "    <tr>\n",
       "      <th>Know</th>\n",
       "      <td>1</td>\n",
       "    </tr>\n",
       "    <tr>\n",
       "      <th>were</th>\n",
       "      <td>4</td>\n",
       "    </tr>\n",
       "    <tr>\n",
       "      <th>jumping</th>\n",
       "      <td>1</td>\n",
       "    </tr>\n",
       "    <tr>\n",
       "      <th>the</th>\n",
       "      <td>33</td>\n",
       "    </tr>\n",
       "    <tr>\n",
       "      <th>gun</th>\n",
       "      <td>2</td>\n",
       "    </tr>\n",
       "    <tr>\n",
       "      <th>...</th>\n",
       "      <td>...</td>\n",
       "    </tr>\n",
       "    <tr>\n",
       "      <th>is</th>\n",
       "      <td>1</td>\n",
       "    </tr>\n",
       "    <tr>\n",
       "      <th>passin</th>\n",
       "      <td>1</td>\n",
       "    </tr>\n",
       "    <tr>\n",
       "      <th>by</th>\n",
       "      <td>1</td>\n",
       "    </tr>\n",
       "    <tr>\n",
       "      <th>Im</th>\n",
       "      <td>1</td>\n",
       "    </tr>\n",
       "    <tr>\n",
       "      <th>Mm</th>\n",
       "      <td>1</td>\n",
       "    </tr>\n",
       "  </tbody>\n",
       "</table>\n",
       "<p>132 rows × 1 columns</p>\n",
       "</div>"
      ],
      "text/plain": [
       "         wordcount\n",
       "Know             1\n",
       "were             4\n",
       "jumping          1\n",
       "the             33\n",
       "gun              2\n",
       "...            ...\n",
       "is               1\n",
       "passin           1\n",
       "by               1\n",
       "Im               1\n",
       "Mm               1\n",
       "\n",
       "[132 rows x 1 columns]"
      ]
     },
     "execution_count": 14,
     "metadata": {},
     "output_type": "execute_result"
    }
   ],
   "source": [
    "data['data/ctry2.txt'][\"wordcount\"]"
   ]
  },
  {
   "cell_type": "code",
   "execution_count": 4,
   "metadata": {},
   "outputs": [
    {
     "data": {
      "text/plain": [
       "{'': 7,\n",
       " 'Jolene': 29,\n",
       " 'Im': 3,\n",
       " 'warnin’': 1,\n",
       " 'you': 13,\n",
       " 'dont': 3,\n",
       " 'come': 2,\n",
       " 'for': 2,\n",
       " 'my': 6,\n",
       " 'man': 7,\n",
       " 'Dont': 2,\n",
       " 'take': 1,\n",
       " 'the': 1,\n",
       " 'chance': 1,\n",
       " 'because': 1,\n",
       " 'think': 1,\n",
       " 'can': 2,\n",
       " 'You’re': 1,\n",
       " 'beautiful': 1,\n",
       " 'beyond': 1,\n",
       " 'compare': 1,\n",
       " 'Takes': 1,\n",
       " 'more': 1,\n",
       " 'than': 2,\n",
       " 'beauty': 1,\n",
       " 'and': 9,\n",
       " 'seductive': 1,\n",
       " 'stares': 1,\n",
       " 'To': 1,\n",
       " 'between': 3,\n",
       " 'a': 8,\n",
       " 'family': 1,\n",
       " 'happy': 3,\n",
       " 'woman': 2,\n",
       " 'too': 1,\n",
       " 'Thе': 1,\n",
       " 'games': 1,\n",
       " 'play': 1,\n",
       " 'are': 1,\n",
       " 'nothing': 1,\n",
       " 'new': 1,\n",
       " 'So': 1,\n",
       " 'want': 2,\n",
       " 'no': 1,\n",
       " 'hеat': 1,\n",
       " 'with': 3,\n",
       " 'me': 8,\n",
       " 'Weve': 1,\n",
       " 'been': 1,\n",
       " 'deep': 1,\n",
       " 'in': 5,\n",
       " 'love': 1,\n",
       " 'twenty': 1,\n",
       " 'years': 1,\n",
       " 'I': 10,\n",
       " 'raised': 2,\n",
       " 'that': 1,\n",
       " 'his': 1,\n",
       " 'kids': 1,\n",
       " 'know': 3,\n",
       " 'better': 1,\n",
       " 'he': 3,\n",
       " 'knows': 1,\n",
       " 'himself': 1,\n",
       " 'Yeah': 1,\n",
       " 'what': 1,\n",
       " 'easily': 1,\n",
       " 'understand': 1,\n",
       " 'Why': 1,\n",
       " 'youre': 1,\n",
       " 'attracted': 1,\n",
       " 'to': 4,\n",
       " 'But': 1,\n",
       " 'this': 2,\n",
       " 'smoke': 1,\n",
       " 'so': 1,\n",
       " 'shoot': 1,\n",
       " 'your': 3,\n",
       " 'shot': 1,\n",
       " 'someone': 1,\n",
       " 'else': 1,\n",
       " 'You': 3,\n",
       " 'heard': 1,\n",
       " 'warnin': 1,\n",
       " 'find': 1,\n",
       " 'own': 1,\n",
       " 'I’m': 2,\n",
       " 'queen': 1,\n",
       " 'still': 1,\n",
       " 'Creole': 1,\n",
       " 'banjee': 1,\n",
       " 'bitch': 1,\n",
       " 'from': 1,\n",
       " 'Louisiane': 1,\n",
       " 'try': 1,\n",
       " 'See': 1,\n",
       " 'country': 1,\n",
       " 'shows': 1,\n",
       " 'near': 1,\n",
       " 'Boston': 1,\n",
       " 'Get': 1,\n",
       " 'tickets': 1,\n",
       " 'as': 4,\n",
       " 'low': 1,\n",
       " '38': 1,\n",
       " 'might': 1,\n",
       " 'also': 1,\n",
       " 'like': 3,\n",
       " 'Dolly': 1,\n",
       " 'Parton': 1,\n",
       " '7': 1,\n",
       " 'Minute': 1,\n",
       " 'Drill': 1,\n",
       " 'J': 1,\n",
       " 'Cole': 1,\n",
       " 'DAUGHTER': 1,\n",
       " 'There’s': 1,\n",
       " 'thousand': 1,\n",
       " 'girls': 1,\n",
       " 'every': 1,\n",
       " 'room': 1,\n",
       " 'That': 1,\n",
       " 'act': 2,\n",
       " 'desperate': 1,\n",
       " 'do': 1,\n",
       " 'bird': 1,\n",
       " 'go': 1,\n",
       " 'on': 2,\n",
       " 'sing': 1,\n",
       " 'tune': 1,\n",
       " 'What': 1,\n",
       " 'had': 1,\n",
       " 'have': 2,\n",
       " 'talk': 1,\n",
       " 'Cause': 3,\n",
       " 'hate': 1,\n",
       " 'fool': 1,\n",
       " 'Your': 1,\n",
       " 'peace': 1,\n",
       " 'depends': 1,\n",
       " 'how': 1,\n",
       " 'move': 1,\n",
       " 'Me': 1,\n",
       " 'crossed': 2,\n",
       " 'those': 2,\n",
       " 'valleys': 2,\n",
       " 'Highs': 2,\n",
       " 'lows': 2,\n",
       " 'everything': 2,\n",
       " 'Good': 3,\n",
       " 'deeds': 2,\n",
       " 'roll': 2,\n",
       " 'tumblin': 2,\n",
       " 'weeds': 2,\n",
       " 'sleep': 1,\n",
       " 'good': 1,\n",
       " 'can’t': 1,\n",
       " 'dig': 2,\n",
       " 'up': 2,\n",
       " 'our': 1,\n",
       " 'planted': 2,\n",
       " 'seeds': 2,\n",
       " 'mans': 1,\n",
       " 'gon': 5,\n",
       " 'stand': 9,\n",
       " 'by': 9,\n",
       " 'breathin': 1,\n",
       " 'gentle': 1,\n",
       " 'breeze': 1,\n",
       " 'cant': 1,\n",
       " 'them': 1,\n",
       " 'Ima': 4,\n",
       " 'her': 2,\n",
       " 'she': 2,\n",
       " 'him': 2}"
      ]
     },
     "execution_count": 4,
     "metadata": {},
     "output_type": "execute_result"
    }
   ],
   "source": [
    "examp = data['data/ctry1.txt']['wordcount']\n",
    "examp.index.drop('')\n",
    "examp['word'] = examp.index\n",
    "examp\n",
    "examp_dict = dict(zip(examp['word'], examp['wordcount']))\n",
    "examp_dict"
   ]
  },
  {
   "cell_type": "code",
   "execution_count": 5,
   "metadata": {},
   "outputs": [
    {
     "name": "stdout",
     "output_type": "stream",
     "text": [
      "            7\n",
      "Jolene     29\n",
      "Im          3\n",
      "warnin’     1\n",
      "you        13\n",
      "           ..\n",
      "them        1\n",
      "Ima         4\n",
      "her         2\n",
      "she         2\n",
      "him         2\n",
      "Name: wordcount, Length: 175, dtype: int64\n",
      "Know        1\n",
      "were        4\n",
      "jumping     1\n",
      "the        33\n",
      "gun         2\n",
      "           ..\n",
      "is          1\n",
      "passin      1\n",
      "by          1\n",
      "Im          1\n",
      "Mm          1\n",
      "Name: wordcount, Length: 132, dtype: int64\n",
      "           21\n",
      "Nothin      1\n",
      "really      1\n",
      "ends        1\n",
      "For         1\n",
      "           ..\n",
      "am          1\n",
      "one         1\n",
      "cleanse     1\n",
      "Fathers     1\n",
      "sins        1\n",
      "Name: wordcount, Length: 191, dtype: int64\n",
      "You       7\n",
      "call      2\n",
      "me        8\n",
      "pretty    3\n",
      "little    7\n",
      "         ..\n",
      "In        1\n",
      "world     1\n",
      "best      1\n",
      "of        1\n",
      "things    1\n",
      "Name: wordcount, Length: 236, dtype: int64\n",
      "              21\n",
      "Hello          3\n",
      "girls          1\n",
      "Beyoncé        2\n",
      "fellas         1\n",
      "              ..\n",
      "But            1\n",
      "Ohohohohoh     1\n",
      "Ah             2\n",
      "vote           1\n",
      "woahoh         1\n",
      "Name: wordcount, Length: 288, dtype: int64\n",
      "         18\n",
      "I        11\n",
      "didnt     1\n",
      "think     2\n",
      "youd      1\n",
      "         ..\n",
      "only      1\n",
      "maybe     1\n",
      "thats     1\n",
      "all       1\n",
      "need      1\n",
      "Name: wordcount, Length: 129, dtype: int64\n",
      "           17\n",
      "I          13\n",
      "dont        1\n",
      "care        1\n",
      "what        1\n",
      "           ..\n",
      "Fate        3\n",
      "Breaths     3\n",
      "Tight       3\n",
      "Chest       3\n",
      "Death       3\n",
      "Name: wordcount, Length: 163, dtype: int64\n",
      "          14\n",
      "How        1\n",
      "can        1\n",
      "it         2\n",
      "be         6\n",
      "          ..\n",
      "shit       1\n",
      "news       1\n",
      "ignore     1\n",
      "heart      1\n",
      "Oh         1\n",
      "Name: wordcount, Length: 140, dtype: int64\n",
      "            18\n",
      "I           26\n",
      "was          4\n",
      "a           23\n",
      "bad          2\n",
      "            ..\n",
      "become       1\n",
      "symphony     1\n",
      "wont         1\n",
      "let          1\n",
      "forget       1\n",
      "Name: wordcount, Length: 188, dtype: int64\n",
      "          13\n",
      "Ahah       7\n",
      "Ring       1\n",
      "the       31\n",
      "alarms     1\n",
      "          ..\n",
      "an         1\n",
      "It         1\n",
      "today      1\n",
      "Love       1\n",
      "ya         1\n",
      "Name: wordcount, Length: 221, dtype: int64\n"
     ]
    }
   ],
   "source": [
    "data.items()\n",
    "for i, (file_name, word_count) in enumerate(data.items(), 1):\n",
    "    print(word_count[\"wordcount\"].wordcount)"
   ]
  },
  {
   "cell_type": "code",
   "execution_count": 15,
   "metadata": {},
   "outputs": [],
   "source": [
    "import plotly.graph_objects as go\n",
    "\n",
    "# make_sankey function\n",
    "def make_sankey(df, src, targ):\n",
    "    \"\"\"\n",
    "        :param df: Input dataframe\n",
    "        :param src: the column in df used for source for sankey\n",
    "        :param targ:  the column in df used for target for sankey\n",
    "        :return: Plotly Figure object\n",
    "        \"\"\"\n",
    "\n",
    "    #Store unique labels from src and targ, to remove repeating after groupby\n",
    "    source_labels = list(df[src].unique())\n",
    "    target_labels = list(df[targ].unique())\n",
    "\n",
    "    # map labels to indexes\n",
    "    link = {\n",
    "        'source': df[src].map(lambda x: source_labels.index(x)),\n",
    "        'target': df[targ].map(lambda x: len(source_labels) + target_labels.index(x)),\n",
    "        'value': df['value']\n",
    "    }\n",
    "\n",
    "    node = {'label': source_labels + target_labels}\n",
    "    #make sankey\n",
    "    sk = go.Sankey(link=link, node=node)\n",
    "    fig = go.Figure(sk)\n",
    "    fig.show()"
   ]
  },
  {
   "cell_type": "code",
   "execution_count": 7,
   "metadata": {},
   "outputs": [
    {
     "data": {
      "application/vnd.plotly.v1+json": {
       "config": {
        "plotlyServerURL": "https://plot.ly"
       },
       "data": [
        {
         "link": {
          "source": [
           0,
           1,
           2,
           3,
           4,
           5,
           6,
           7,
           8,
           9,
           0,
           1,
           2,
           3,
           4,
           5,
           6,
           7,
           8,
           9,
           0,
           1,
           2,
           3,
           4,
           5,
           6,
           7,
           8,
           9,
           0,
           1,
           2,
           3,
           4,
           5,
           6,
           7,
           8,
           9,
           0,
           1,
           2,
           3,
           4,
           5,
           6,
           7,
           8,
           9,
           0,
           1,
           2,
           3,
           4,
           5,
           6,
           7,
           8,
           9,
           0,
           1,
           2,
           3,
           4,
           5,
           6,
           7,
           8,
           9,
           0,
           1,
           2,
           3,
           4,
           5,
           6,
           7,
           8,
           9
          ],
          "target": [
           10,
           10,
           10,
           10,
           10,
           10,
           10,
           10,
           10,
           10,
           11,
           11,
           11,
           11,
           11,
           11,
           11,
           11,
           11,
           11,
           12,
           12,
           12,
           12,
           12,
           12,
           12,
           12,
           12,
           12,
           13,
           13,
           13,
           13,
           13,
           13,
           13,
           13,
           13,
           13,
           14,
           14,
           14,
           14,
           14,
           14,
           14,
           14,
           14,
           14,
           15,
           15,
           15,
           15,
           15,
           15,
           15,
           15,
           15,
           15,
           16,
           16,
           16,
           16,
           16,
           16,
           16,
           16,
           16,
           16,
           17,
           17,
           17,
           17,
           17,
           17,
           17,
           17,
           17,
           17
          ],
          "value": [
           0,
           25,
           0,
           7,
           0,
           0,
           0,
           0,
           0,
           2,
           9,
           0,
           22,
           0,
           0,
           0,
           0,
           0,
           0,
           0,
           1,
           0,
           4,
           6,
           0,
           15,
           1,
           1,
           0,
           1,
           0,
           0,
           7,
           5,
           8,
           0,
           0,
           1,
           3,
           0,
           0,
           0,
           0,
           0,
           0,
           0,
           0,
           0,
           0,
           18,
           0,
           0,
           0,
           0,
           2,
           0,
           3,
           11,
           0,
           1,
           0,
           12,
           0,
           0,
           2,
           2,
           0,
           0,
           0,
           0,
           0,
           0,
           0,
           0,
           0,
           12,
           1,
           4,
           0,
           1
          ]
         },
         "node": {
          "label": [
           "ctry1.txt",
           "ctry2.txt",
           "ctry3.txt",
           "ctry4.txt",
           "ctry5.txt",
           "pop1.txt",
           "pop2.txt",
           "pop3.txt",
           "pop4.txt",
           "pop5.txt",
           "day",
           "stand",
           "love",
           "Oh",
           "days",
           "boy",
           "die",
           "wait"
          ]
         },
         "type": "sankey"
        }
       ],
       "layout": {
        "template": {
         "data": {
          "bar": [
           {
            "error_x": {
             "color": "#2a3f5f"
            },
            "error_y": {
             "color": "#2a3f5f"
            },
            "marker": {
             "line": {
              "color": "#E5ECF6",
              "width": 0.5
             },
             "pattern": {
              "fillmode": "overlay",
              "size": 10,
              "solidity": 0.2
             }
            },
            "type": "bar"
           }
          ],
          "barpolar": [
           {
            "marker": {
             "line": {
              "color": "#E5ECF6",
              "width": 0.5
             },
             "pattern": {
              "fillmode": "overlay",
              "size": 10,
              "solidity": 0.2
             }
            },
            "type": "barpolar"
           }
          ],
          "carpet": [
           {
            "aaxis": {
             "endlinecolor": "#2a3f5f",
             "gridcolor": "white",
             "linecolor": "white",
             "minorgridcolor": "white",
             "startlinecolor": "#2a3f5f"
            },
            "baxis": {
             "endlinecolor": "#2a3f5f",
             "gridcolor": "white",
             "linecolor": "white",
             "minorgridcolor": "white",
             "startlinecolor": "#2a3f5f"
            },
            "type": "carpet"
           }
          ],
          "choropleth": [
           {
            "colorbar": {
             "outlinewidth": 0,
             "ticks": ""
            },
            "type": "choropleth"
           }
          ],
          "contour": [
           {
            "colorbar": {
             "outlinewidth": 0,
             "ticks": ""
            },
            "colorscale": [
             [
              0,
              "#0d0887"
             ],
             [
              0.1111111111111111,
              "#46039f"
             ],
             [
              0.2222222222222222,
              "#7201a8"
             ],
             [
              0.3333333333333333,
              "#9c179e"
             ],
             [
              0.4444444444444444,
              "#bd3786"
             ],
             [
              0.5555555555555556,
              "#d8576b"
             ],
             [
              0.6666666666666666,
              "#ed7953"
             ],
             [
              0.7777777777777778,
              "#fb9f3a"
             ],
             [
              0.8888888888888888,
              "#fdca26"
             ],
             [
              1,
              "#f0f921"
             ]
            ],
            "type": "contour"
           }
          ],
          "contourcarpet": [
           {
            "colorbar": {
             "outlinewidth": 0,
             "ticks": ""
            },
            "type": "contourcarpet"
           }
          ],
          "heatmap": [
           {
            "colorbar": {
             "outlinewidth": 0,
             "ticks": ""
            },
            "colorscale": [
             [
              0,
              "#0d0887"
             ],
             [
              0.1111111111111111,
              "#46039f"
             ],
             [
              0.2222222222222222,
              "#7201a8"
             ],
             [
              0.3333333333333333,
              "#9c179e"
             ],
             [
              0.4444444444444444,
              "#bd3786"
             ],
             [
              0.5555555555555556,
              "#d8576b"
             ],
             [
              0.6666666666666666,
              "#ed7953"
             ],
             [
              0.7777777777777778,
              "#fb9f3a"
             ],
             [
              0.8888888888888888,
              "#fdca26"
             ],
             [
              1,
              "#f0f921"
             ]
            ],
            "type": "heatmap"
           }
          ],
          "heatmapgl": [
           {
            "colorbar": {
             "outlinewidth": 0,
             "ticks": ""
            },
            "colorscale": [
             [
              0,
              "#0d0887"
             ],
             [
              0.1111111111111111,
              "#46039f"
             ],
             [
              0.2222222222222222,
              "#7201a8"
             ],
             [
              0.3333333333333333,
              "#9c179e"
             ],
             [
              0.4444444444444444,
              "#bd3786"
             ],
             [
              0.5555555555555556,
              "#d8576b"
             ],
             [
              0.6666666666666666,
              "#ed7953"
             ],
             [
              0.7777777777777778,
              "#fb9f3a"
             ],
             [
              0.8888888888888888,
              "#fdca26"
             ],
             [
              1,
              "#f0f921"
             ]
            ],
            "type": "heatmapgl"
           }
          ],
          "histogram": [
           {
            "marker": {
             "pattern": {
              "fillmode": "overlay",
              "size": 10,
              "solidity": 0.2
             }
            },
            "type": "histogram"
           }
          ],
          "histogram2d": [
           {
            "colorbar": {
             "outlinewidth": 0,
             "ticks": ""
            },
            "colorscale": [
             [
              0,
              "#0d0887"
             ],
             [
              0.1111111111111111,
              "#46039f"
             ],
             [
              0.2222222222222222,
              "#7201a8"
             ],
             [
              0.3333333333333333,
              "#9c179e"
             ],
             [
              0.4444444444444444,
              "#bd3786"
             ],
             [
              0.5555555555555556,
              "#d8576b"
             ],
             [
              0.6666666666666666,
              "#ed7953"
             ],
             [
              0.7777777777777778,
              "#fb9f3a"
             ],
             [
              0.8888888888888888,
              "#fdca26"
             ],
             [
              1,
              "#f0f921"
             ]
            ],
            "type": "histogram2d"
           }
          ],
          "histogram2dcontour": [
           {
            "colorbar": {
             "outlinewidth": 0,
             "ticks": ""
            },
            "colorscale": [
             [
              0,
              "#0d0887"
             ],
             [
              0.1111111111111111,
              "#46039f"
             ],
             [
              0.2222222222222222,
              "#7201a8"
             ],
             [
              0.3333333333333333,
              "#9c179e"
             ],
             [
              0.4444444444444444,
              "#bd3786"
             ],
             [
              0.5555555555555556,
              "#d8576b"
             ],
             [
              0.6666666666666666,
              "#ed7953"
             ],
             [
              0.7777777777777778,
              "#fb9f3a"
             ],
             [
              0.8888888888888888,
              "#fdca26"
             ],
             [
              1,
              "#f0f921"
             ]
            ],
            "type": "histogram2dcontour"
           }
          ],
          "mesh3d": [
           {
            "colorbar": {
             "outlinewidth": 0,
             "ticks": ""
            },
            "type": "mesh3d"
           }
          ],
          "parcoords": [
           {
            "line": {
             "colorbar": {
              "outlinewidth": 0,
              "ticks": ""
             }
            },
            "type": "parcoords"
           }
          ],
          "pie": [
           {
            "automargin": true,
            "type": "pie"
           }
          ],
          "scatter": [
           {
            "fillpattern": {
             "fillmode": "overlay",
             "size": 10,
             "solidity": 0.2
            },
            "type": "scatter"
           }
          ],
          "scatter3d": [
           {
            "line": {
             "colorbar": {
              "outlinewidth": 0,
              "ticks": ""
             }
            },
            "marker": {
             "colorbar": {
              "outlinewidth": 0,
              "ticks": ""
             }
            },
            "type": "scatter3d"
           }
          ],
          "scattercarpet": [
           {
            "marker": {
             "colorbar": {
              "outlinewidth": 0,
              "ticks": ""
             }
            },
            "type": "scattercarpet"
           }
          ],
          "scattergeo": [
           {
            "marker": {
             "colorbar": {
              "outlinewidth": 0,
              "ticks": ""
             }
            },
            "type": "scattergeo"
           }
          ],
          "scattergl": [
           {
            "marker": {
             "colorbar": {
              "outlinewidth": 0,
              "ticks": ""
             }
            },
            "type": "scattergl"
           }
          ],
          "scattermapbox": [
           {
            "marker": {
             "colorbar": {
              "outlinewidth": 0,
              "ticks": ""
             }
            },
            "type": "scattermapbox"
           }
          ],
          "scatterpolar": [
           {
            "marker": {
             "colorbar": {
              "outlinewidth": 0,
              "ticks": ""
             }
            },
            "type": "scatterpolar"
           }
          ],
          "scatterpolargl": [
           {
            "marker": {
             "colorbar": {
              "outlinewidth": 0,
              "ticks": ""
             }
            },
            "type": "scatterpolargl"
           }
          ],
          "scatterternary": [
           {
            "marker": {
             "colorbar": {
              "outlinewidth": 0,
              "ticks": ""
             }
            },
            "type": "scatterternary"
           }
          ],
          "surface": [
           {
            "colorbar": {
             "outlinewidth": 0,
             "ticks": ""
            },
            "colorscale": [
             [
              0,
              "#0d0887"
             ],
             [
              0.1111111111111111,
              "#46039f"
             ],
             [
              0.2222222222222222,
              "#7201a8"
             ],
             [
              0.3333333333333333,
              "#9c179e"
             ],
             [
              0.4444444444444444,
              "#bd3786"
             ],
             [
              0.5555555555555556,
              "#d8576b"
             ],
             [
              0.6666666666666666,
              "#ed7953"
             ],
             [
              0.7777777777777778,
              "#fb9f3a"
             ],
             [
              0.8888888888888888,
              "#fdca26"
             ],
             [
              1,
              "#f0f921"
             ]
            ],
            "type": "surface"
           }
          ],
          "table": [
           {
            "cells": {
             "fill": {
              "color": "#EBF0F8"
             },
             "line": {
              "color": "white"
             }
            },
            "header": {
             "fill": {
              "color": "#C8D4E3"
             },
             "line": {
              "color": "white"
             }
            },
            "type": "table"
           }
          ]
         },
         "layout": {
          "annotationdefaults": {
           "arrowcolor": "#2a3f5f",
           "arrowhead": 0,
           "arrowwidth": 1
          },
          "autotypenumbers": "strict",
          "coloraxis": {
           "colorbar": {
            "outlinewidth": 0,
            "ticks": ""
           }
          },
          "colorscale": {
           "diverging": [
            [
             0,
             "#8e0152"
            ],
            [
             0.1,
             "#c51b7d"
            ],
            [
             0.2,
             "#de77ae"
            ],
            [
             0.3,
             "#f1b6da"
            ],
            [
             0.4,
             "#fde0ef"
            ],
            [
             0.5,
             "#f7f7f7"
            ],
            [
             0.6,
             "#e6f5d0"
            ],
            [
             0.7,
             "#b8e186"
            ],
            [
             0.8,
             "#7fbc41"
            ],
            [
             0.9,
             "#4d9221"
            ],
            [
             1,
             "#276419"
            ]
           ],
           "sequential": [
            [
             0,
             "#0d0887"
            ],
            [
             0.1111111111111111,
             "#46039f"
            ],
            [
             0.2222222222222222,
             "#7201a8"
            ],
            [
             0.3333333333333333,
             "#9c179e"
            ],
            [
             0.4444444444444444,
             "#bd3786"
            ],
            [
             0.5555555555555556,
             "#d8576b"
            ],
            [
             0.6666666666666666,
             "#ed7953"
            ],
            [
             0.7777777777777778,
             "#fb9f3a"
            ],
            [
             0.8888888888888888,
             "#fdca26"
            ],
            [
             1,
             "#f0f921"
            ]
           ],
           "sequentialminus": [
            [
             0,
             "#0d0887"
            ],
            [
             0.1111111111111111,
             "#46039f"
            ],
            [
             0.2222222222222222,
             "#7201a8"
            ],
            [
             0.3333333333333333,
             "#9c179e"
            ],
            [
             0.4444444444444444,
             "#bd3786"
            ],
            [
             0.5555555555555556,
             "#d8576b"
            ],
            [
             0.6666666666666666,
             "#ed7953"
            ],
            [
             0.7777777777777778,
             "#fb9f3a"
            ],
            [
             0.8888888888888888,
             "#fdca26"
            ],
            [
             1,
             "#f0f921"
            ]
           ]
          },
          "colorway": [
           "#636efa",
           "#EF553B",
           "#00cc96",
           "#ab63fa",
           "#FFA15A",
           "#19d3f3",
           "#FF6692",
           "#B6E880",
           "#FF97FF",
           "#FECB52"
          ],
          "font": {
           "color": "#2a3f5f"
          },
          "geo": {
           "bgcolor": "white",
           "lakecolor": "white",
           "landcolor": "#E5ECF6",
           "showlakes": true,
           "showland": true,
           "subunitcolor": "white"
          },
          "hoverlabel": {
           "align": "left"
          },
          "hovermode": "closest",
          "mapbox": {
           "style": "light"
          },
          "paper_bgcolor": "white",
          "plot_bgcolor": "#E5ECF6",
          "polar": {
           "angularaxis": {
            "gridcolor": "white",
            "linecolor": "white",
            "ticks": ""
           },
           "bgcolor": "#E5ECF6",
           "radialaxis": {
            "gridcolor": "white",
            "linecolor": "white",
            "ticks": ""
           }
          },
          "scene": {
           "xaxis": {
            "backgroundcolor": "#E5ECF6",
            "gridcolor": "white",
            "gridwidth": 2,
            "linecolor": "white",
            "showbackground": true,
            "ticks": "",
            "zerolinecolor": "white"
           },
           "yaxis": {
            "backgroundcolor": "#E5ECF6",
            "gridcolor": "white",
            "gridwidth": 2,
            "linecolor": "white",
            "showbackground": true,
            "ticks": "",
            "zerolinecolor": "white"
           },
           "zaxis": {
            "backgroundcolor": "#E5ECF6",
            "gridcolor": "white",
            "gridwidth": 2,
            "linecolor": "white",
            "showbackground": true,
            "ticks": "",
            "zerolinecolor": "white"
           }
          },
          "shapedefaults": {
           "line": {
            "color": "#2a3f5f"
           }
          },
          "ternary": {
           "aaxis": {
            "gridcolor": "white",
            "linecolor": "white",
            "ticks": ""
           },
           "baxis": {
            "gridcolor": "white",
            "linecolor": "white",
            "ticks": ""
           },
           "bgcolor": "#E5ECF6",
           "caxis": {
            "gridcolor": "white",
            "linecolor": "white",
            "ticks": ""
           }
          },
          "title": {
           "x": 0.05
          },
          "xaxis": {
           "automargin": true,
           "gridcolor": "white",
           "linecolor": "white",
           "ticks": "",
           "title": {
            "standoff": 15
           },
           "zerolinecolor": "white",
           "zerolinewidth": 2
          },
          "yaxis": {
           "automargin": true,
           "gridcolor": "white",
           "linecolor": "white",
           "ticks": "",
           "title": {
            "standoff": 15
           },
           "zerolinecolor": "white",
           "zerolinewidth": 2
          }
         }
        }
       }
      }
     },
     "metadata": {},
     "output_type": "display_data"
    }
   ],
   "source": [
    "def sankey_wordcount(word_list=None, k=None):\n",
    "    \"\"\"\n",
    "    Generates a Sankey diagram to visualize word counts across songs\n",
    "\n",
    "    Args:\n",
    "        word_list (list, optional): Specific set of words to include.\n",
    "        k (int, optional): Number of most frequent words to include.\n",
    "    \"\"\"\n",
    "    if k:\n",
    "        # if k is passed, use the top k words in terms of total count\n",
    "        #df refers to the dataframe with total word counts from all files\n",
    "        sorted_df = df.sort_values(by='wordcount', ascending=False)\n",
    "        word_list = list(sorted_df.head(k).index)\n",
    "\n",
    "    # init empty list for creating a df\n",
    "    data_list = []\n",
    "\n",
    "    # Iterate over each word and file to fill in the data list with (name, word, count)\n",
    "    for word in word_list:\n",
    "        for file_name in lst_files:\n",
    "            try:\n",
    "                #get the count for that song and word\n",
    "                count = data['data/' + file_name][\"wordcount\"].loc[word].wordcount\n",
    "            except KeyError:\n",
    "                # if keyerror, just input 0, keyerror means no occurance\n",
    "                count = 0\n",
    "            \n",
    "            # Append data as tuple (filename, word, count) to the list\n",
    "            data_list.append((file_name, word, count))\n",
    "\n",
    "    # Create DataFrame from the list, set cols\n",
    "    filtered_df = pd.DataFrame(data_list, columns=['filename', 'word', 'value'])\n",
    "\n",
    "    #call make_sankey() using the filtered_df built, and src/targ cols from filtered_df\n",
    "    make_sankey(filtered_df, 'filename', 'word')\n",
    "\n",
    "sankey_wordcount(word_list=['day', 'stand', 'love', 'Oh', 'days', 'boy', 'die', 'wait'])"
   ]
  },
  {
   "cell_type": "code",
   "execution_count": 13,
   "metadata": {},
   "outputs": [
    {
     "name": "stderr",
     "output_type": "stream",
     "text": [
      "C:\\Users\\codyh\\AppData\\Local\\Temp\\ipykernel_33588\\3428801620.py:27: SettingWithCopyWarning:\n",
      "\n",
      "\n",
      "A value is trying to be set on a copy of a slice from a DataFrame.\n",
      "Try using .loc[row_indexer,col_indexer] = value instead\n",
      "\n",
      "See the caveats in the documentation: https://pandas.pydata.org/pandas-docs/stable/user_guide/indexing.html#returning-a-view-versus-a-copy\n",
      "\n",
      "C:\\Users\\codyh\\AppData\\Local\\Temp\\ipykernel_33588\\3428801620.py:27: SettingWithCopyWarning:\n",
      "\n",
      "\n",
      "A value is trying to be set on a copy of a slice from a DataFrame.\n",
      "Try using .loc[row_indexer,col_indexer] = value instead\n",
      "\n",
      "See the caveats in the documentation: https://pandas.pydata.org/pandas-docs/stable/user_guide/indexing.html#returning-a-view-versus-a-copy\n",
      "\n",
      "C:\\Users\\codyh\\AppData\\Local\\Temp\\ipykernel_33588\\3428801620.py:27: SettingWithCopyWarning:\n",
      "\n",
      "\n",
      "A value is trying to be set on a copy of a slice from a DataFrame.\n",
      "Try using .loc[row_indexer,col_indexer] = value instead\n",
      "\n",
      "See the caveats in the documentation: https://pandas.pydata.org/pandas-docs/stable/user_guide/indexing.html#returning-a-view-versus-a-copy\n",
      "\n",
      "C:\\Users\\codyh\\AppData\\Local\\Temp\\ipykernel_33588\\3428801620.py:27: SettingWithCopyWarning:\n",
      "\n",
      "\n",
      "A value is trying to be set on a copy of a slice from a DataFrame.\n",
      "Try using .loc[row_indexer,col_indexer] = value instead\n",
      "\n",
      "See the caveats in the documentation: https://pandas.pydata.org/pandas-docs/stable/user_guide/indexing.html#returning-a-view-versus-a-copy\n",
      "\n",
      "C:\\Users\\codyh\\AppData\\Local\\Temp\\ipykernel_33588\\3428801620.py:27: SettingWithCopyWarning:\n",
      "\n",
      "\n",
      "A value is trying to be set on a copy of a slice from a DataFrame.\n",
      "Try using .loc[row_indexer,col_indexer] = value instead\n",
      "\n",
      "See the caveats in the documentation: https://pandas.pydata.org/pandas-docs/stable/user_guide/indexing.html#returning-a-view-versus-a-copy\n",
      "\n",
      "C:\\Users\\codyh\\AppData\\Local\\Temp\\ipykernel_33588\\3428801620.py:27: SettingWithCopyWarning:\n",
      "\n",
      "\n",
      "A value is trying to be set on a copy of a slice from a DataFrame.\n",
      "Try using .loc[row_indexer,col_indexer] = value instead\n",
      "\n",
      "See the caveats in the documentation: https://pandas.pydata.org/pandas-docs/stable/user_guide/indexing.html#returning-a-view-versus-a-copy\n",
      "\n",
      "C:\\Users\\codyh\\AppData\\Local\\Temp\\ipykernel_33588\\3428801620.py:27: SettingWithCopyWarning:\n",
      "\n",
      "\n",
      "A value is trying to be set on a copy of a slice from a DataFrame.\n",
      "Try using .loc[row_indexer,col_indexer] = value instead\n",
      "\n",
      "See the caveats in the documentation: https://pandas.pydata.org/pandas-docs/stable/user_guide/indexing.html#returning-a-view-versus-a-copy\n",
      "\n",
      "C:\\Users\\codyh\\AppData\\Local\\Temp\\ipykernel_33588\\3428801620.py:27: SettingWithCopyWarning:\n",
      "\n",
      "\n",
      "A value is trying to be set on a copy of a slice from a DataFrame.\n",
      "Try using .loc[row_indexer,col_indexer] = value instead\n",
      "\n",
      "See the caveats in the documentation: https://pandas.pydata.org/pandas-docs/stable/user_guide/indexing.html#returning-a-view-versus-a-copy\n",
      "\n",
      "C:\\Users\\codyh\\AppData\\Local\\Temp\\ipykernel_33588\\3428801620.py:27: SettingWithCopyWarning:\n",
      "\n",
      "\n",
      "A value is trying to be set on a copy of a slice from a DataFrame.\n",
      "Try using .loc[row_indexer,col_indexer] = value instead\n",
      "\n",
      "See the caveats in the documentation: https://pandas.pydata.org/pandas-docs/stable/user_guide/indexing.html#returning-a-view-versus-a-copy\n",
      "\n"
     ]
    },
    {
     "data": {
      "image/png": "[encoded data removed]",
      "text/plain": [
       "<Figure size 640x480 with 9 Axes>"
      ]
     },
     "metadata": {},
     "output_type": "display_data"
    }
   ],
   "source": [
    "from wordcloud import WordCloud\n",
    "import matplotlib.pyplot as plt\n",
    "def songs_wordcloud(self):\n",
    "    \"\"\"\n",
    "    Makes and displays a wordcloud for each song\n",
    "    \"\"\"\n",
    "    wordcloud = WordCloud(width=600, height=400, background_color='white')\n",
    "    fig = plt.figure()\n",
    "    #filter out stop words\n",
    "    df = df[df[\"index\"].apply(is_stop_word) == False]\n",
    "\n",
    "    for i, file_name in enumerate(lst_files, 1):\n",
    "        if i <= 9:\n",
    "            #get the df returned from passing in the filename to data\n",
    "            song_df = data['data/'+file_name]['wordcount']\n",
    "            #remove any empty strings, as sometimes stopword filtering fails at removing these\n",
    "            song_df.index.drop('')\n",
    "\n",
    "            #filter out the stopwords\n",
    "            song_df = song_df[~song_df.index.map(is_stop_word)]\n",
    "\n",
    "\n",
    "            #add column to the df so that there is a 'word' column instead of using index\n",
    "            song_df['word'] = song_df.index\n",
    "            #turn it into a dict for word cloud processing\n",
    "            song_dict = dict(zip(song_df['word'], song_df['wordcount']))\n",
    "            song_dict\n",
    "            \n",
    "            cloud = wordcloud.generate_from_frequencies(song_dict)\n",
    "            fig.add_subplot(4, 3, i)\n",
    "            plt.imshow(cloud)\n",
    "            plt.title(file_name, fontsize=10)\n",
    "            plt.axis(\"off\")\n",
    "\n",
    "    plt.show()"
   ]
  }
 ],
 "metadata": {
  "kernelspec": {
   "display_name": "ds",
   "language": "python",
   "name": "python3"
  },
  "language_info": {
   "codemirror_mode": {
    "name": "ipython",
    "version": 3
   },
   "file_extension": ".py",
   "mimetype": "text/x-python",
   "name": "python",
   "nbconvert_exporter": "python",
   "pygments_lexer": "ipython3",
   "version": "3.11.7"
  }
 },
 "nbformat": 4,
 "nbformat_minor": 2
}
